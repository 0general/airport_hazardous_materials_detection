{
 "cells": [
  {
   "cell_type": "code",
   "execution_count": 1,
   "id": "f4783f72",
   "metadata": {
    "ExecuteTime": {
     "end_time": "2022-04-24T04:55:23.318355Z",
     "start_time": "2022-04-24T04:55:23.293236Z"
    }
   },
   "outputs": [],
   "source": [
    "import os"
   ]
  },
  {
   "cell_type": "code",
   "execution_count": 2,
   "id": "c40ae446",
   "metadata": {
    "ExecuteTime": {
     "end_time": "2022-04-24T04:55:24.221969Z",
     "start_time": "2022-04-24T04:55:23.514978Z"
    }
   },
   "outputs": [
    {
     "name": "stdout",
     "output_type": "stream",
     "text": [
      "Annotation\t labels     Untitled.ipynb  val_images\r\n",
      "existing_labels  Train_zip  val_annotation  zip_file\r\n"
     ]
    }
   ],
   "source": [
    "!ls"
   ]
  },
  {
   "cell_type": "code",
   "execution_count": 3,
   "id": "b0a21236",
   "metadata": {
    "ExecuteTime": {
     "end_time": "2022-04-24T04:55:26.776379Z",
     "start_time": "2022-04-24T04:55:26.059218Z"
    }
   },
   "outputs": [
    {
     "name": "stdout",
     "output_type": "stream",
     "text": [
      "/workspace/Juwan/wanda_vision/xray\r\n"
     ]
    }
   ],
   "source": [
    "!pwd"
   ]
  },
  {
   "cell_type": "code",
   "execution_count": 22,
   "id": "79d02b85",
   "metadata": {
    "ExecuteTime": {
     "end_time": "2022-04-24T05:02:03.556904Z",
     "start_time": "2022-04-24T05:02:03.552637Z"
    }
   },
   "outputs": [],
   "source": [
    "label_path = '/workspace/Juwan/wanda_vision/xray/val_annotation/'"
   ]
  },
  {
   "cell_type": "code",
   "execution_count": 5,
   "id": "340dc08e",
   "metadata": {
    "ExecuteTime": {
     "end_time": "2022-04-24T04:55:32.331294Z",
     "start_time": "2022-04-24T04:55:32.296340Z"
    }
   },
   "outputs": [
    {
     "data": {
      "text/plain": [
       "'H_8205.20-0000_08_233.xml'"
      ]
     },
     "execution_count": 5,
     "metadata": {},
     "output_type": "execute_result"
    }
   ],
   "source": [
    "os.listdir(label_path)[0]"
   ]
  },
  {
   "cell_type": "code",
   "execution_count": 6,
   "id": "098a9292",
   "metadata": {
    "ExecuteTime": {
     "end_time": "2022-04-24T04:55:40.436367Z",
     "start_time": "2022-04-24T04:55:40.431908Z"
    }
   },
   "outputs": [],
   "source": [
    "image_path = '/workspace/Juwan/wanda_vision/xray/val_images/'"
   ]
  },
  {
   "cell_type": "code",
   "execution_count": 7,
   "id": "ca0ca5c7",
   "metadata": {
    "ExecuteTime": {
     "end_time": "2022-04-24T04:55:41.148129Z",
     "start_time": "2022-04-24T04:55:41.117206Z"
    }
   },
   "outputs": [
    {
     "data": {
      "text/plain": [
       "'H_8205.40-0000_07_745.png'"
      ]
     },
     "execution_count": 7,
     "metadata": {},
     "output_type": "execute_result"
    }
   ],
   "source": [
    "os.listdir(image_path)[0]"
   ]
  },
  {
   "cell_type": "code",
   "execution_count": 8,
   "id": "3968967a",
   "metadata": {
    "ExecuteTime": {
     "end_time": "2022-04-24T04:55:43.906536Z",
     "start_time": "2022-04-24T04:55:43.873995Z"
    }
   },
   "outputs": [
    {
     "data": {
      "text/plain": [
       "'H_8205_20-0000_08_233.xml'"
      ]
     },
     "execution_count": 8,
     "metadata": {},
     "output_type": "execute_result"
    }
   ],
   "source": [
    "os.listdir(label_path)[0].replace('.','_',1)"
   ]
  },
  {
   "cell_type": "code",
   "execution_count": 10,
   "id": "c4c58c65",
   "metadata": {
    "ExecuteTime": {
     "end_time": "2022-04-24T04:58:05.931576Z",
     "start_time": "2022-04-24T04:56:13.191889Z"
    }
   },
   "outputs": [],
   "source": [
    "for i in os.listdir(label_path):\n",
    "    renamed = i.replace('.', '_', 1)\n",
    "    command = 'mv '+ label_path+i+' '+label_path+renamed\n",
    "    os.system(command)\n",
    "#     print(command)\n",
    "#     break\n",
    "    "
   ]
  },
  {
   "cell_type": "code",
   "execution_count": 12,
   "id": "b14ade59",
   "metadata": {
    "ExecuteTime": {
     "end_time": "2022-04-24T05:00:16.869168Z",
     "start_time": "2022-04-24T04:58:23.389631Z"
    }
   },
   "outputs": [],
   "source": [
    "for i in os.listdir(image_path):\n",
    "    renamed = i.replace('.', '_', 1)\n",
    "    command = 'mv '+ image_path+i+' '+image_path+renamed\n",
    "    os.system(command)\n",
    "#     print(command)\n",
    "#     break\n",
    "    "
   ]
  },
  {
   "cell_type": "code",
   "execution_count": 42,
   "id": "441606e6",
   "metadata": {
    "ExecuteTime": {
     "end_time": "2022-04-24T05:06:23.400150Z",
     "start_time": "2022-04-24T05:06:23.386106Z"
    }
   },
   "outputs": [
    {
     "ename": "NotADirectoryError",
     "evalue": "[Errno 20] Not a directory: '/workspace/Juwan/wanda_vision/xray/val_images/H_8205_20-0000_06_1043.txt'",
     "output_type": "error",
     "traceback": [
      "\u001b[0;31m---------------------------------------------------------------------------\u001b[0m",
      "\u001b[0;31mNotADirectoryError\u001b[0m                        Traceback (most recent call last)",
      "\u001b[0;32m<ipython-input-42-169f0143f023>\u001b[0m in \u001b[0;36m<module>\u001b[0;34m\u001b[0m\n\u001b[0;32m----> 1\u001b[0;31m \u001b[0mlen\u001b[0m\u001b[0;34m(\u001b[0m\u001b[0mos\u001b[0m\u001b[0;34m.\u001b[0m\u001b[0mlistdir\u001b[0m\u001b[0;34m(\u001b[0m\u001b[0mimage_path\u001b[0m\u001b[0;34m)\u001b[0m\u001b[0;34m)\u001b[0m\u001b[0;34m*\u001b[0m\u001b[0;36m2\u001b[0m\u001b[0;34m\u001b[0m\u001b[0;34m\u001b[0m\u001b[0m\n\u001b[0m",
      "\u001b[0;31mNotADirectoryError\u001b[0m: [Errno 20] Not a directory: '/workspace/Juwan/wanda_vision/xray/val_images/H_8205_20-0000_06_1043.txt'"
     ]
    }
   ],
   "source": [
    "len(os.listdir(image_path))"
   ]
  },
  {
   "cell_type": "code",
   "execution_count": 43,
   "id": "ff6f1b1b",
   "metadata": {
    "ExecuteTime": {
     "end_time": "2022-04-24T05:06:27.919788Z",
     "start_time": "2022-04-24T05:06:27.889763Z"
    }
   },
   "outputs": [
    {
     "data": {
      "text/plain": [
       "55286"
      ]
     },
     "execution_count": 43,
     "metadata": {},
     "output_type": "execute_result"
    }
   ],
   "source": [
    "len(os.listdir(label_path))*2"
   ]
  },
  {
   "cell_type": "code",
   "execution_count": 15,
   "id": "2c05f1cd",
   "metadata": {
    "ExecuteTime": {
     "end_time": "2022-04-24T05:00:41.877346Z",
     "start_time": "2022-04-24T05:00:41.825567Z"
    },
    "scrolled": true
   },
   "outputs": [
    {
     "data": {
      "text/plain": [
       "0"
      ]
     },
     "execution_count": 15,
     "metadata": {},
     "output_type": "execute_result"
    }
   ],
   "source": [
    "# 애초에 결측이 많음\n",
    "len(os.listdir(image_path)) - len(os.listdir(label_path))"
   ]
  },
  {
   "cell_type": "code",
   "execution_count": 16,
   "id": "815b71e7",
   "metadata": {
    "ExecuteTime": {
     "end_time": "2022-04-24T05:00:45.485814Z",
     "start_time": "2022-04-24T05:00:45.457506Z"
    }
   },
   "outputs": [],
   "source": [
    "image_list = os.listdir(image_path)"
   ]
  },
  {
   "cell_type": "code",
   "execution_count": 17,
   "id": "4f302a48",
   "metadata": {
    "ExecuteTime": {
     "end_time": "2022-04-24T05:00:47.014431Z",
     "start_time": "2022-04-24T05:00:47.007561Z"
    }
   },
   "outputs": [
    {
     "data": {
      "text/plain": [
       "'H_9613_80-0000_11_1102.png'"
      ]
     },
     "execution_count": 17,
     "metadata": {},
     "output_type": "execute_result"
    }
   ],
   "source": [
    "image_list[0]"
   ]
  },
  {
   "cell_type": "code",
   "execution_count": 18,
   "id": "aeba6718",
   "metadata": {
    "ExecuteTime": {
     "end_time": "2022-04-24T05:00:49.730313Z",
     "start_time": "2022-04-24T05:00:49.723602Z"
    }
   },
   "outputs": [
    {
     "data": {
      "text/plain": [
       "'/workspace/Juwan/wanda_vision/xray/val_annotation/'"
      ]
     },
     "execution_count": 18,
     "metadata": {},
     "output_type": "execute_result"
    }
   ],
   "source": [
    "label_path"
   ]
  },
  {
   "cell_type": "code",
   "execution_count": 19,
   "id": "ac3f8eab",
   "metadata": {
    "ExecuteTime": {
     "end_time": "2022-04-24T05:01:30.003226Z",
     "start_time": "2022-04-24T05:01:29.998892Z"
    }
   },
   "outputs": [],
   "source": [
    "save_path = '/workspace/Juwan/wanda_vision/xray/val_labels/'"
   ]
  },
  {
   "cell_type": "code",
   "execution_count": 20,
   "id": "89b1135b",
   "metadata": {
    "ExecuteTime": {
     "end_time": "2022-04-24T05:01:36.558060Z",
     "start_time": "2022-04-24T05:01:36.525287Z"
    }
   },
   "outputs": [
    {
     "name": "stdout",
     "output_type": "stream",
     "text": [
      "cp /workspace/Juwan/wanda_vision/xray/val_annotation/H_7321_11-0000_09_744.xml /workspace/Juwan/wanda_vision/xray/val_labels/H_7321_11-0000_09_744.xml\n"
     ]
    }
   ],
   "source": [
    "# for i in os.listdir(label_path):\n",
    "#     renamed = i.replace('xml', 'png')\n",
    "#     if renamed in image_list:\n",
    "#         command = 'cp '+ label_path+i+' '+save_path+i\n",
    "#         os.system(command)\n",
    "# #         print(command)\n",
    "# #     break"
   ]
  },
  {
   "cell_type": "code",
   "execution_count": 56,
   "id": "bf3da99e",
   "metadata": {
    "ExecuteTime": {
     "end_time": "2022-04-23T16:37:55.040403Z",
     "start_time": "2022-04-23T16:37:54.932933Z"
    }
   },
   "outputs": [
    {
     "data": {
      "text/plain": [
       "137439"
      ]
     },
     "execution_count": 56,
     "metadata": {},
     "output_type": "execute_result"
    }
   ],
   "source": [
    "len(os.listdir(save_path))"
   ]
  },
  {
   "cell_type": "code",
   "execution_count": 21,
   "id": "c5f770dc",
   "metadata": {
    "ExecuteTime": {
     "end_time": "2022-04-24T05:01:55.467965Z",
     "start_time": "2022-04-24T05:01:55.455247Z"
    }
   },
   "outputs": [],
   "source": [
    "class_dict = {\n",
    "    'Aerosol' : 0,\n",
    "    'Alcohol' : 1,\n",
    "    'Awl' : 2,\n",
    "    'Axe' : 3,\n",
    "    'Battery' : 4,\n",
    "    'Bat' : 5,\n",
    "    'Bullet' : 6,\n",
    "    'Chisel' : 7,\n",
    "    'Electronic cigarettes(Liquid)' : 8,\n",
    "    'Electronic cigarettes' : 9,\n",
    "    'Firecracker' : 10,\n",
    "    'GunParts' : 11,\n",
    "    'Gun' : 12,\n",
    "    'Hammer' : 13,\n",
    "    'HandCuffs' : 14,\n",
    "    'HDD(External)' : 15,\n",
    "    'HDD' : 16,\n",
    "    'Knife' : 17,\n",
    "    'LapTop' : 18,\n",
    "    'Lighter' : 19,\n",
    "    'Liquid' : 20,\n",
    "    'Match' : 21,\n",
    "    'MetalPipe' : 22,\n",
    "    'NailClippers' : 23,\n",
    "    'Plier' : 24,\n",
    "    'PrtableGas' : 25,\n",
    "    'Saw' : 26,\n",
    "    'Scissors' : 27,\n",
    "    'Screwdriver' : 28,\n",
    "    'SmartPhone' : 29,\n",
    "    'SolidFuel' : 30,\n",
    "    'Spanner' : 31,\n",
    "    'SSD' : 32,\n",
    "    'SupplymentaryBattery' : 33,\n",
    "    'TabletPC' : 34,\n",
    "    'Thinner' : 35,\n",
    "    'Throwing Knife' : 36,\n",
    "    'USB' : 37,\n",
    "    'ZippoOil' : 38        \n",
    "}"
   ]
  },
  {
   "cell_type": "code",
   "execution_count": 23,
   "id": "66b1d6f7",
   "metadata": {
    "ExecuteTime": {
     "end_time": "2022-04-24T05:02:09.039316Z",
     "start_time": "2022-04-24T05:02:09.033715Z"
    }
   },
   "outputs": [],
   "source": [
    "cls_dict = {}\n",
    "\n",
    "for k,v in class_dict.items():\n",
    "    k = k.lower()\n",
    "    cls_dict[k] = v"
   ]
  },
  {
   "cell_type": "code",
   "execution_count": 24,
   "id": "a7ee8e65",
   "metadata": {
    "ExecuteTime": {
     "end_time": "2022-04-24T05:02:09.450632Z",
     "start_time": "2022-04-24T05:02:09.440967Z"
    }
   },
   "outputs": [
    {
     "data": {
      "text/plain": [
       "{'aerosol': 0,\n",
       " 'alcohol': 1,\n",
       " 'awl': 2,\n",
       " 'axe': 3,\n",
       " 'battery': 4,\n",
       " 'bat': 5,\n",
       " 'bullet': 6,\n",
       " 'chisel': 7,\n",
       " 'electronic cigarettes(liquid)': 8,\n",
       " 'electronic cigarettes': 9,\n",
       " 'firecracker': 10,\n",
       " 'gunparts': 11,\n",
       " 'gun': 12,\n",
       " 'hammer': 13,\n",
       " 'handcuffs': 14,\n",
       " 'hdd(external)': 15,\n",
       " 'hdd': 16,\n",
       " 'knife': 17,\n",
       " 'laptop': 18,\n",
       " 'lighter': 19,\n",
       " 'liquid': 20,\n",
       " 'match': 21,\n",
       " 'metalpipe': 22,\n",
       " 'nailclippers': 23,\n",
       " 'plier': 24,\n",
       " 'prtablegas': 25,\n",
       " 'saw': 26,\n",
       " 'scissors': 27,\n",
       " 'screwdriver': 28,\n",
       " 'smartphone': 29,\n",
       " 'solidfuel': 30,\n",
       " 'spanner': 31,\n",
       " 'ssd': 32,\n",
       " 'supplymentarybattery': 33,\n",
       " 'tabletpc': 34,\n",
       " 'thinner': 35,\n",
       " 'throwing knife': 36,\n",
       " 'usb': 37,\n",
       " 'zippooil': 38}"
      ]
     },
     "execution_count": 24,
     "metadata": {},
     "output_type": "execute_result"
    }
   ],
   "source": [
    "cls_dict"
   ]
  },
  {
   "cell_type": "code",
   "execution_count": 25,
   "id": "67e70beb",
   "metadata": {
    "ExecuteTime": {
     "end_time": "2022-04-24T05:02:12.654635Z",
     "start_time": "2022-04-24T05:02:12.642159Z"
    }
   },
   "outputs": [],
   "source": [
    "cls_dict = {\n",
    "    \"aerosol\": 0,\n",
    "    \"alcohol\": 1,\n",
    "    \"awl\": 2,\n",
    "    \"axe\": 3,\n",
    "    \"battery\": 4,\n",
    "    \"bat\": 5,\n",
    "    \"bullet\": 6,\n",
    "    \"chisel\": 7,\n",
    "    \"electronic cigarettes(liquid)\": 8,\n",
    "    \"electronic cigarettes\": 9,\n",
    "    \"firecracker\": 10,\n",
    "    \"gunparts\": 11,\n",
    "    \"gun\": 12,\n",
    "    \"hammer\": 13,\n",
    "    \"handcuffs\": 14,\n",
    "    \"hdd(external)\": 15,\n",
    "    \"hdd\": 16,\n",
    "    \"knife\": 17,\n",
    "    \"laptop\": 18,\n",
    "    \"lighter\": 19,\n",
    "    \"liquid\": 20,\n",
    "    \"match\": 21,\n",
    "    \"metalpipe\": 22,\n",
    "    \"nailclippers\": 23,\n",
    "    \"plier\": 24,\n",
    "    \"prtablegas\": 25,\n",
    "    \"saw\": 26,\n",
    "    \"scissors\": 27,\n",
    "    \"screwdriver\": 28,\n",
    "    \"smartphone\": 29,\n",
    "    \"solidfuel\": 30,\n",
    "    \"spanner\": 31,\n",
    "    \"ssd\": 32,\n",
    "    \"supplymentarybattery\": 33,\n",
    "    \"tabletpc\": 34,\n",
    "    \"thinner\": 35,\n",
    "    \"throwing knife\": 36,\n",
    "    \"usb\": 37,\n",
    "    \"zippooil\": 38,\n",
    "}"
   ]
  },
  {
   "cell_type": "code",
   "execution_count": 26,
   "id": "9409d5f6",
   "metadata": {
    "ExecuteTime": {
     "end_time": "2022-04-24T05:02:13.682457Z",
     "start_time": "2022-04-24T05:02:13.678120Z"
    }
   },
   "outputs": [],
   "source": [
    "import os\n",
    "import xml.etree.ElementTree as ET"
   ]
  },
  {
   "cell_type": "code",
   "execution_count": 32,
   "id": "2f1e74a1",
   "metadata": {
    "ExecuteTime": {
     "end_time": "2022-04-24T05:02:48.333049Z",
     "start_time": "2022-04-24T05:02:48.328877Z"
    }
   },
   "outputs": [],
   "source": [
    "file_path = '/workspace/Juwan/wanda_vision/xray/val_annotation/'"
   ]
  },
  {
   "cell_type": "code",
   "execution_count": 33,
   "id": "c762684e",
   "metadata": {
    "ExecuteTime": {
     "end_time": "2022-04-24T05:02:48.672643Z",
     "start_time": "2022-04-24T05:02:48.645636Z"
    }
   },
   "outputs": [],
   "source": [
    "xml_list = os.listdir(file_path)"
   ]
  },
  {
   "cell_type": "code",
   "execution_count": 34,
   "id": "416aad42",
   "metadata": {
    "ExecuteTime": {
     "end_time": "2022-04-24T05:02:49.178300Z",
     "start_time": "2022-04-24T05:02:49.171732Z"
    }
   },
   "outputs": [
    {
     "data": {
      "text/plain": [
       "'/workspace/Juwan/wanda_vision/xray/val_annotation/H_7321_11-0000_09_744.xml'"
      ]
     },
     "execution_count": 34,
     "metadata": {},
     "output_type": "execute_result"
    }
   ],
   "source": [
    "file_path+xml_list[0]"
   ]
  },
  {
   "cell_type": "code",
   "execution_count": 35,
   "id": "75de870b",
   "metadata": {
    "ExecuteTime": {
     "end_time": "2022-04-24T05:02:54.072999Z",
     "start_time": "2022-04-24T05:02:54.067636Z"
    }
   },
   "outputs": [],
   "source": [
    "xml_file = open(file_path+xml_list[0], 'rt', encoding='UTF8')"
   ]
  },
  {
   "cell_type": "code",
   "execution_count": 36,
   "id": "23680df5",
   "metadata": {
    "ExecuteTime": {
     "end_time": "2022-04-24T05:02:54.431243Z",
     "start_time": "2022-04-24T05:02:54.426030Z"
    }
   },
   "outputs": [
    {
     "data": {
      "text/plain": [
       "<_io.TextIOWrapper name='/workspace/Juwan/wanda_vision/xray/val_annotation/H_7321_11-0000_09_744.xml' mode='rt' encoding='UTF8'>"
      ]
     },
     "execution_count": 36,
     "metadata": {},
     "output_type": "execute_result"
    }
   ],
   "source": [
    "xml_file"
   ]
  },
  {
   "cell_type": "code",
   "execution_count": 37,
   "id": "c320add9",
   "metadata": {
    "ExecuteTime": {
     "end_time": "2022-04-24T05:02:55.737379Z",
     "start_time": "2022-04-24T05:02:55.732609Z"
    }
   },
   "outputs": [],
   "source": [
    "tree = ET.parse(xml_file)"
   ]
  },
  {
   "cell_type": "code",
   "execution_count": 38,
   "id": "465d6a48",
   "metadata": {
    "ExecuteTime": {
     "end_time": "2022-04-24T05:02:57.304823Z",
     "start_time": "2022-04-24T05:02:57.300453Z"
    }
   },
   "outputs": [],
   "source": [
    "root = tree.getroot()"
   ]
  },
  {
   "cell_type": "code",
   "execution_count": 41,
   "id": "5def7a24",
   "metadata": {
    "ExecuteTime": {
     "end_time": "2022-04-24T05:04:21.291283Z",
     "start_time": "2022-04-24T05:04:07.818283Z"
    }
   },
   "outputs": [],
   "source": [
    "for label_file in xml_list:\n",
    "    \n",
    "    open_path = file_path + label_file\n",
    "    \n",
    "    xml_file = open(open_path, 'rt', encoding='UTF8')\n",
    "    tree = ET.parse(xml_file)\n",
    "    root = tree.getroot()\n",
    "\n",
    "\n",
    "\n",
    "    width = int(root.find('size').find('width').text)\n",
    "    height = int(root.find('size').find('height').text)\n",
    "\n",
    "    image_path = '/workspace/Juwan/wanda_vision/xray/val_images/' + label_file.replace('xml', 'txt')\n",
    "#     print(\"saving to... \", image_path)\n",
    "#     print(\"width, height : \",width, height)\n",
    "#     print(\"-----------------------\")\n",
    "\n",
    "    for i in root.findall('object'):\n",
    "        name = i.find('name').text\n",
    "        name = name.lower()\n",
    "        if name == 'stun gun':\n",
    "            name = 'gun'\n",
    "        if name not in cls_dict:\n",
    "            print(\"alert : \",label_file)\n",
    "            \n",
    "\n",
    "        bbox = i.find('bndbox')\n",
    "\n",
    "        xmin = int(bbox.find('xmin').text)\n",
    "        ymin = int(bbox.find('ymin').text)\n",
    "        xmax = int(bbox.find('xmax').text)\n",
    "        ymax = int(bbox.find('ymax').text)\n",
    "\n",
    "        dw = 1./width\n",
    "        dh = 1./height\n",
    "\n",
    "        x = (xmin + xmax)/2 - 1\n",
    "        y = (ymin + ymax)/2 - 1\n",
    "        w = abs(xmin - xmax)\n",
    "        h = abs(ymin - ymax)\n",
    "\n",
    "        x = x*dw\n",
    "        y = y*dh\n",
    "        w = w*dw\n",
    "        h = h*dh\n",
    "\n",
    "\n",
    "\n",
    "#         print(\"xmin : \", xmin)\n",
    "#         print(\"ymin : \", ymin)\n",
    "#         print(\"xmax : \", xmax)\n",
    "#         print(\"ymax : \", ymax)\n",
    "\n",
    "#         print(\"x : \", x)\n",
    "#         print(\"y : \", y)\n",
    "#         print(\"w : \", w)\n",
    "#         print(\"h : \", h)\n",
    "#     break\n",
    "        with open(image_path, 'a') as f:\n",
    "            f.write(str(cls_dict[name])+' '+str(x)+' '+str(y)+' '+str(w)+' '+str(h)+'\\n')\n",
    "#         print(\"-------- -----\")"
   ]
  },
  {
   "cell_type": "code",
   "execution_count": 95,
   "id": "9b4e0f74",
   "metadata": {
    "ExecuteTime": {
     "end_time": "2022-04-23T18:04:26.652341Z",
     "start_time": "2022-04-23T18:04:26.644918Z"
    }
   },
   "outputs": [
    {
     "data": {
      "text/plain": [
       "137439.0"
      ]
     },
     "execution_count": 95,
     "metadata": {},
     "output_type": "execute_result"
    }
   ],
   "source": [
    "274878 /2 "
   ]
  },
  {
   "cell_type": "code",
   "execution_count": null,
   "id": "1255084c",
   "metadata": {},
   "outputs": [],
   "source": []
  }
 ],
 "metadata": {
  "kernelspec": {
   "display_name": "Python 3",
   "language": "python",
   "name": "python3"
  },
  "language_info": {
   "codemirror_mode": {
    "name": "ipython",
    "version": 3
   },
   "file_extension": ".py",
   "mimetype": "text/x-python",
   "name": "python",
   "nbconvert_exporter": "python",
   "pygments_lexer": "ipython3",
   "version": "3.8.10"
  },
  "toc": {
   "base_numbering": 1,
   "nav_menu": {},
   "number_sections": false,
   "sideBar": true,
   "skip_h1_title": false,
   "title_cell": "Table of Contents",
   "title_sidebar": "Contents",
   "toc_cell": false,
   "toc_position": {},
   "toc_section_display": true,
   "toc_window_display": false
  },
  "varInspector": {
   "cols": {
    "lenName": 16,
    "lenType": 16,
    "lenVar": 40
   },
   "kernels_config": {
    "python": {
     "delete_cmd_postfix": "",
     "delete_cmd_prefix": "del ",
     "library": "var_list.py",
     "varRefreshCmd": "print(var_dic_list())"
    },
    "r": {
     "delete_cmd_postfix": ") ",
     "delete_cmd_prefix": "rm(",
     "library": "var_list.r",
     "varRefreshCmd": "cat(var_dic_list()) "
    }
   },
   "types_to_exclude": [
    "module",
    "function",
    "builtin_function_or_method",
    "instance",
    "_Feature"
   ],
   "window_display": false
  }
 },
 "nbformat": 4,
 "nbformat_minor": 5
}
